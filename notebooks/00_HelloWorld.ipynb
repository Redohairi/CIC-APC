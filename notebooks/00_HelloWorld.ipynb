{
 "cells": [
  {
   "cell_type": "markdown",
   "metadata": {},
   "source": [
    "<div style=\"text-align: center\"><a href=\"https://cic.unb.br\"><img src=\"https://cic.unb.br/wp-content/uploads/2016/03/logo2.png\"></a></div>\n",
    "<div style=\"text-align: right\"><a href=\"https://github.com/gnramos/CIC-APC/\">Algoritmos e Programação de Computadores</a><br/>\n",
    "<a href=\"https://cic.unb.br/~gnramos\">Guilherme N. Ramos</a><br/><br/>\n",
    "<a rel=\"license\" href=\"http://creativecommons.org/licenses/by-sa/4.0/\"><img alt=\"Licença Creative Commons\" style=\"border-width:0\" src=\"https://i.creativecommons.org/l/by-sa/4.0/88x31.png\" align=\"right\"/></a>\n",
    "</div>"
   ]
  },
  {
   "cell_type": "markdown",
   "metadata": {},
   "source": [
    "A disciplina _Algoritmos e Programação de Computadores_ visa desenvolver o raciocínio para resolver problemas computacionalmente, utilizando programação para realizar as soluções algorítmicas propostas. Basicamente, é _fazer com que o computador faça o que você quer feito_.\n",
    "\n",
    "Para isso, uma das ferramentas a serem utilizadas é o [Projeto Jupyter](https://pt.wikipedia.org/wiki/Projeto_Jupyter)."
   ]
  },
  {
   "cell_type": "markdown",
   "metadata": {},
   "source": [
    "# Jupyter #\n",
    "\n",
    "Para o funcionamento correto, é preciso abrir o arquivo em um servidor Jupyter (na sua própria máquina ou em algum sítio alternativo, como o [Binder](https://mybinder.org/v2/gh/gnramos/CIC-APC/master).\n",
    "\n",
    "Quando estiver pronto, a primeira coisa é se acostumar com esta interface. Basicamente, há trechos de texto explicativos e trechos com um terminal interativo para execução das instruções. Este é um trecho de texto, ele apresenta informações relevantes para o desenvolvimento do tópico e instruções.\n",
    "\n",
    "A seguir está o terminal. O terminal aceita instruções em código, e as executa. Para verificar, clique na seção abaixo, digite um número qualquer e pressione as teclas [Shift] + [Enter] (tente fazer isso para números diferentes)."
   ]
  },
  {
   "cell_type": "code",
   "execution_count": null,
   "metadata": {
    "collapsed": true
   },
   "outputs": [],
   "source": []
  },
  {
   "cell_type": "markdown",
   "metadata": {},
   "source": [
    "Os trechos de terminal são os mais interessantes, possibilitam que se interaja com a máquina. Para tanto, basta dar instruções (adequadas) para que alguma tarefa seja realizada ou, melhor ainda, instruções incorretas para testar o comportamento definido pelas instruções (é a melhor forma de aprender!). Após definir as instruções, basta apertar [Shift] + [Enter] para que o terminal comece a executá-las. Por exemplo o trecho de código a seguir que mostra que o terminal pode ser usado como uma calculadora."
   ]
  },
  {
   "cell_type": "code",
   "execution_count": null,
   "metadata": {
    "collapsed": true
   },
   "outputs": [],
   "source": [
    "# Será que funcionaria com mais números?\n",
    "# E com outras operações matemáticas?\n",
    "\n",
    "10 + 3"
   ]
  },
  {
   "cell_type": "markdown",
   "metadata": {},
   "source": [
    "# Exercício #\n",
    "\n",
    "No terminal abaixo, calcule o montante total $M$ acumulado com [juros compostos](https://matematicabasica.net/juros-compostos/) após $t = 2$ meses, considerando um investimento inicial $I = 1000$ com juros de 50%.\n",
    "$$M = I\\cdot(1 + j)^t$$"
   ]
  },
  {
   "cell_type": "code",
   "execution_count": null,
   "metadata": {
    "collapsed": true
   },
   "outputs": [],
   "source": [
    "# A resposta é R$ 2250."
   ]
  },
  {
   "cell_type": "markdown",
   "metadata": {},
   "source": [
    "# Algoritmos #\n",
    "\n",
    "Para que o computador faça algo, é preciso lhe dizer o que fazer, de um modo que ele entenda (em uma linguagem que ele compreenda), e de tal forma que lhe seja possível agir (sem instruções que sejam impossíveis). Por exemplo, embora um aluno da UnB consiga realizar a tarefa \"me dê aquela caneta\", isso não seria possível se a instrução fosse dada em [klingon](https://pt.wikipedia.org/wiki/L%C3%ADngua_klingon) (ou outra linguagem incompreensível), o aluno estivesse [imobilizado](http://www.imfdb.org/images/thumb/3/30/Silence_3045.jpg/800px-Silence_3045.jpg) (ou impossibilitado de se mover) ou se a caneta estivesse dentro de um vulcão (ou outro [local inacessível](https://www.flickr.com/photos/31985953@N03/8361250427)). No caso de computadores, é preciso fornecer uma sequência de instruções em uma linguagem de programação considerando as limitações da máquina.\n",
    "\n",
    "Um _algoritmo_ descreve, precisamente, um procedimento para realizar uma tarefa. A programação é o processo de transformá-lo em um conjunto de termos (vocabulário) e regras (sintaxe) que permite a formulação de instruções a um computador. De forma simplificada, um computador:\n",
    "1. realiza cálculos _simples_ rapidamente;\n",
    "1. lembra de _muitos_ resultados.\n",
    "\n",
    "Dado um problema, é preciso desenvolver um processo para construir sua solução e descrevê-lo de tal forma que o computador possa realizá-lo."
   ]
  },
  {
   "cell_type": "markdown",
   "metadata": {},
   "source": [
    "## Hello World! ##\n",
    "\n",
    "O problema inicial é simples, como fazer o computador apresentar uma mensagem de boas vindas? Esta tarefa pode ser dividida em duas:\n",
    "1. Qual a mensagem? _(conhecimento descritivo)_\n",
    "1. Como mostrá-la? _(conhecimento procedural)_\n",
    "\n",
    "A primeira é simples, a mensagem é _Olá Mundo!_, definida de forma arbitrária. A segunda é, neste momento, mais complexa pois envolve conhecer os termos adequados para comandar a máquina. Como a forma de receber informações do computador é, geralmente, via um texto apresentado no monitor, a instrução seria algo como _mostre_, _apresente_, _escreva_, etc. No caso de Python, a instrução é `print`. Portanto, para apresentar a mensagem de boas vindas é preciso dizer ao computador:"
   ]
  },
  {
   "cell_type": "code",
   "execution_count": null,
   "metadata": {
    "collapsed": true
   },
   "outputs": [],
   "source": [
    "print(\"Olá Mundo!\")"
   ]
  },
  {
   "cell_type": "markdown",
   "metadata": {},
   "source": [
    "Mas para que servem estes outros símbolos? Bem, a máquina não é inteligente (pelo contrário), então, para que se tenha o comportamento desejado, as instruções têm de ser bem definidas e não ambíguas. É preciso deixar claro onde começa e onde termina cada coisa.\n",
    "\n",
    "Quando escrevemos um texto, ele é composto por diversas sentenças, e sabemos onde começa/termina cada uma pela pontuação. Considerando uma frase, esta é composta por palavras e utilizamos espaços para separá-las entre si. Em programação, tem-se a mesma ideia, é preciso definir onde começa e onde termina a mensagem. Neste caso, utiliza-se aspas, e a mensagem foi definida como `\"Olá Mundo!\"`. Pode-se replicar o comportamento pelas simples repetição da instrução:"
   ]
  },
  {
   "cell_type": "code",
   "execution_count": null,
   "metadata": {
    "collapsed": true
   },
   "outputs": [],
   "source": [
    "print(\"Olá Mundo!\")\n",
    "print(\"Olá de novo.\")"
   ]
  },
  {
   "cell_type": "markdown",
   "metadata": {},
   "source": [
    "Analogamente, é possível pedir à máquina que mostre uma série de mensagens e, portanto, é preciso indicar claramente onde estas começam e onde terminam. Nesta caso, utiliza-se parênteses."
   ]
  },
  {
   "cell_type": "code",
   "execution_count": null,
   "metadata": {
    "collapsed": true
   },
   "outputs": [],
   "source": [
    "print(\"Olá de novo.\", \"E de novo!\")"
   ]
  },
  {
   "cell_type": "markdown",
   "metadata": {},
   "source": [
    "# Exercício #\n",
    "\n",
    "No terminal abaixo, apresente a mensagem que você acha que todo calouro deveria ouvir."
   ]
  },
  {
   "cell_type": "code",
   "execution_count": null,
   "metadata": {
    "collapsed": true
   },
   "outputs": [],
   "source": []
  }
 ],
 "metadata": {
  "kernelspec": {
   "display_name": "Python 3",
   "language": "python",
   "name": "python3"
  },
  "language_info": {
   "codemirror_mode": {
    "name": "ipython",
    "version": 3
   },
   "file_extension": ".py",
   "mimetype": "text/x-python",
   "name": "python",
   "nbconvert_exporter": "python",
   "pygments_lexer": "ipython3",
   "version": "3.5.2"
  }
 },
 "nbformat": 4,
 "nbformat_minor": 2
}
