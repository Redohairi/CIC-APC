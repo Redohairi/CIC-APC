{
 "cells": [
  {
   "cell_type": "markdown",
   "metadata": {},
   "source": [
    "<div style=\"text-align: center\"><a href=\"https://cic.unb.br\"><img src=\"https://cic.unb.br/wp-content/uploads/2016/03/logo2.png\"></a></div>\n",
    "<div style=\"text-align: right\"><a href=\"https://github.com/gnramos/CIC-APC/\">Algoritmos e Programação de Computadores</a><br/>\n",
    "<a href=\"https://cic.unb.br/~gnramos\">Guilherme N. Ramos</a></div>"
   ]
  },
  {
   "cell_type": "markdown",
   "metadata": {},
   "source": [
    "A disciplina _Algoritmos e Programação de Computadores_ visa desenvolver o raciocínio para resolver problemas computacionalmente, utilizando programação para realizar as soluções algorítmicas propostas. \n",
    "\n",
    "Um _algoritmo_ descreve, precisamente, de um procedimento para realizar uma tarefa. A programação é o processo de transformá-lo em um conjunto de termos (vocabulário) e regras (sintaxe) que permite a formulação de instruções a um computador. De forma simplificada, um computador:\n",
    "1. realiza cálculos _simples_ rapidamente;\n",
    "1. lembra de _muitos_ resultados.\n",
    "\n",
    "Portanto, dado um problema, é preciso desenvolver um processo para construir sua solução e descrevê-lo de tal forma que o computador possa realizá-lo."
   ]
  },
  {
   "cell_type": "markdown",
   "metadata": {},
   "source": [
    "# Hello World!\n",
    "\n",
    "O problem inicial é simples, como fazer o computador apresentar uma mensagem de boas vindas? Esta tarefa pode ser dividida em duas:\n",
    "1. Qual a mensagem? _(conhecimento descritivo)_\n",
    "1. Como mostrá-la? _(conhecimento procedural)_\n",
    "\n",
    "A primeira é simples, a mensagem é _Olá Mundo!_, definida de forma arbitrária. A segunda é, neste momento, mais complexa pois envolve conhecer os termos adequados para comandar a máquina. Como a forma de receber informações do computador é, geralmente, via um texto apresentado no monitor, a instrução seria algo como _mostre_, _apresente_, _escreva_, etc. No caso de Python, a instrução é `print`. Portanto, para apresentar a mensagem de boas vindas é preciso dizer ao computador:"
   ]
  },
  {
   "cell_type": "code",
   "execution_count": 1,
   "metadata": {},
   "outputs": [
    {
     "name": "stdout",
     "output_type": "stream",
     "text": [
      "Olá Mundo!\n"
     ]
    }
   ],
   "source": [
    "print(\"Olá Mundo!\")"
   ]
  },
  {
   "cell_type": "markdown",
   "metadata": {},
   "source": [
    "Mas para que servem estes outros símbolos? Bem, a máquina não é inteligente (pelo contrário), então, para que se tenha o comportamento desejado, as instruções têm de ser bem definidas e não ambíguas. É preciso deixar claro onde começa e onde termina cada coisa.\n",
    "\n",
    "Quando escrevemos um texto, ele é composto por diversas sentenças, e sabemos onde começa/termina cada uma pela pontuação. Considerando uma frase, esta é composta por palavras e utilizamos espaços para separá-las entre si. Em programação, tem-se a mesma ideia, é preciso definir onde começa e onde termina a mensagem. Neste caso, utiliza-se aspas, e a mensagem foi definida como `\"Olá Mundo!\"`.\n",
    "\n",
    "Analogamente, é possível pedir à máquina que mostre uma série de mensagens e, portanto, é preciso indicar claramente onde estas começam e onde terminam. Nesta caso, utiliza-se os parênteses."
   ]
  },
  {
   "cell_type": "code",
   "execution_count": 5,
   "metadata": {},
   "outputs": [
    {
     "name": "stdout",
     "output_type": "stream",
     "text": [
      "Olá de novo. E de novo!\n"
     ]
    }
   ],
   "source": [
    "print(\"Olá de novo.\", \"E de novo!\")"
   ]
  },
  {
   "cell_type": "code",
   "execution_count": null,
   "metadata": {},
   "outputs": [],
   "source": []
  }
 ],
 "metadata": {
  "kernelspec": {
   "display_name": "Python 3",
   "language": "python",
   "name": "python3"
  },
  "language_info": {
   "codemirror_mode": {
    "name": "ipython",
    "version": 3
   },
   "file_extension": ".py",
   "mimetype": "text/x-python",
   "name": "python",
   "nbconvert_exporter": "python",
   "pygments_lexer": "ipython3",
   "version": "3.6.7"
  }
 },
 "nbformat": 4,
 "nbformat_minor": 2
}
