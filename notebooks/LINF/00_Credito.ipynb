{
 "cells": [
  {
   "cell_type": "markdown",
   "metadata": {},
   "source": [
    "<div style=\"text-align: center\"><a href=\"https://cic.unb.br\"><img src=\"https://cic.unb.br/wp-content/uploads/2016/03/logo2.png\"></a></div>\n",
    "<div style=\"text-align: right\"><a href=\"https://github.com/gnramos/CIC-APC/\">Algoritmos e Programação de Computadores</a><br/>\n",
    "<a href=\"https://cic.unb.br/~gnramos\">Guilherme N. Ramos</a><br/><br/>\n",
    "<a rel=\"license\" href=\"http://creativecommons.org/licenses/by-sa/4.0/\"><img alt=\"Licença Creative Commons\" style=\"border-width:0\" src=\"https://i.creativecommons.org/l/by-sa/4.0/88x31.png\" align=\"right\"/></a>\n",
    "</div>"
   ]
  },
  {
   "cell_type": "markdown",
   "metadata": {},
   "source": [
    "# Crédito #\n",
    "\n",
    "O \"sucesso\" do capitalismo nos dias atuais têm muita influência nas decisões cotidianas das pessoas, que nem sempre resistem a certos impulsos consumistas. Mensalmente você recebe a fatura de seu cartão de crédito, em que o banco oferece a opção de pagamento completo ou em parcelas da dívida. O parcelamento pode parecer interessante, mas o banco cobra juros sobre o balanço ainda não pago. Afinal, [_quanto custa e quanto tempo leva para quitar a conta de cartão de crédito, se você pagar apenas parte da fatura?_](https://www.bcb.gov.br/estatisticas/reporttxjuros/?path=conteudo%2Ftxcred%2FReports%2FTaxasCredito-Consolidadas-porTaxasAnuais.rdl&nome=Pessoa%20F%C3%ADsica%20-%20Cart%C3%A3o%20de%20credito%20rotativo%20n%C3%A3o%20regular&parametros=tipopessoa:1;modalidade:203;encargo:101&exibeparametros=false&exibe_paginacao=false)"
   ]
  },
  {
   "cell_type": "markdown",
   "metadata": {},
   "source": [
    "## Introdução ##\n",
    "\n",
    "A instituição bancária fornece crédito ao cliente, e cobra uma [_taxa anual_](http://www.bb.com.br/docs/pub/siteEsp/dicar/dwn/tabjurosVarejo.pdf) por isso. Ou seja, o cliente não só paga o que devia, como também paga o serviço de empréstimo do banco. O funcionamento disto é simples, suponha que você fez um pagamento de valor $V$ no crédito. Quando chegar sua fatura (mês 0), sua dívida é um valor $d_0 = V$. Qualquer pagamento $p$ é deduzido da dívida, portanto o valor da dívida ativa remanescente pode ser calculado como $$dr_0 = d_0 - p_0$$\n",
    "\n",
    "No início do mês seguinte (1), o banco cobra uma taxa mensal de juros $j$ sobre a dívida ativa, portanto o total devido torna-se $$d_1 = (1 + j)dr_0$$ \n",
    "\n",
    "Dado um novo pagamento $p_1$, este é reduzido do total devido e a dívida ativa remanescente pode ser novamente calculada como $$dr_1 = d_1 - p_1$$ \n",
    "\n",
    "Este processo se repete todo mês até que a dívida termine."
   ]
  },
  {
   "cell_type": "markdown",
   "metadata": {},
   "source": [
    "## Taxa Mínima ##\n",
    "\n",
    "Uma forma de determinar o valor a ser pago por mês é com a _taxa mínima_, um percentual da sua dívida que deve ser pago. Portanto, a parcela a ser paga deve ser, no mínimo, o percentual da dívida ativa definido pela taxa mínima de juros. Por exemplo, suponha que sua fatura é de R$ 10.000,00, com uma taxa anual de 36% e uma taxa mínima no valor de 15%. Se você pagar somente o valor minimo estipulado por esta taxa, tem-se:\n",
    "\n",
    "| Mês      | Dívida    | Parcela  | Dívida Restante | Juro     |\n",
    "|:--------:|:---------:|---------:|:---------------:|:--------:|\n",
    "| 0        | 10.000,00 | 1.500,00 |        8.500,00 | 255,00   |\n",
    "| 1        |  8.755,00 | 1.313,25 |        7.441,75 | 223,25   |\n",
    "| 2        |  7.665,00 | 1.149,75 |        6.515,25 | 195,46   |\n",
    "| $\\vdots$ | $\\vdots$  | $\\vdots$ |        $\\vdots$ | $\\vdots$ |\n",
    "\n",
    "Após um ano com nesta situação, terá pago R\\$ 9.604,79 e uma dívida ativa de R\\$ 2.028,03. Se a parcela mínima fosse de apenas 2%, a dívida ativa seria de R\\$ 11.188,18 (em uma fatura inicial de R\\$ 10.000,00)...\n",
    "\n",
    "Implemente a função `divida_restante` que calcula a dívida a ser paga caso o cliente pague apenas a parcela mínima definida pelo contrato do cartão de crédito (definida pela taxa mensal). A matemática envolvida é simples:\n",
    "\n",
    "$$juro\\ mensal = \\frac{taxa\\ de\\ juros\\ anual}{12}$$\n",
    "$$parcela\\ do\\ mês = taxa\\ mensal\\cdot{}dívida$$\n",
    "$$dívida\\ restante = dívida - parcela\\ do\\ mês$$\n",
    "$$dívida\\ atualizada = (1 + juro\\ mensal)\\cdot{}dívida\\ restante$$"
   ]
  },
  {
   "cell_type": "code",
   "execution_count": null,
   "metadata": {
    "collapsed": false
   },
   "outputs": [],
   "source": [
    "def divida_restante(divida, juro_anual, taxa_mensal):\n",
    "    u\"\"\"\n",
    "    Retorna o valor da divida após 12 pagamentos com a taxa mínima.\n",
    "\n",
    "    Argumentos:\n",
    "    divida -- valor da dívida\n",
    "    juro_anual -- taxa de juros anual\n",
    "    taxa_mensal -- percentual mínimo de cada parcela\n",
    "    \"\"\"\n",
    "    # Implemente o código aqui.\n",
    "    \n",
    "    # DICA: tente mostrar os valores calculados, isso ajuda a \n",
    "    # acompanhar o processo e verificar se seu código está\n",
    "    # funcionando corretamente."
   ]
  },
  {
   "cell_type": "markdown",
   "metadata": {},
   "source": [
    "Para que se tenha uma noção dos cálculos envolvidos, eis uma representação mês a mês, de duas situações diferentes, a primeira com uma dívida de R\\$10.000,00, com uma taxa anual de 36% e uma parcela mínima no valor de 15%; e a segunda com \n",
    "dívida de R\\$5.000,00, com uma taxa anual de 18% e uma parcela mínima de 2%.\n",
    "\n",
    "| `divida_restante(10000, 0.36, 0.15)` | `divida_restante(5000, 0.18, 0.02)` |\n",
    "|--------------------------------------|------------------------------------|\n",
    "|<pre><code>&nbsp;&nbsp;&nbsp;&nbsp;&nbsp;&nbsp;&nbsp;&nbsp;&nbsp;&nbsp;&nbsp;&nbsp;&nbsp;Mês:&nbsp;1<br/>Pagamento&nbsp;mínimo:&nbsp;1500.00<br/>&nbsp;Dívida&nbsp;restante:&nbsp;8755.00<br/>&nbsp;&nbsp;&nbsp;&nbsp;&nbsp;&nbsp;&nbsp;&nbsp;&nbsp;&nbsp;&nbsp;&nbsp;&nbsp;Mês:&nbsp;2<br/>Pagamento&nbsp;mínimo:&nbsp;1313.25<br/>&nbsp;Dívida&nbsp;restante:&nbsp;7665.00<br/>&nbsp;&nbsp;&nbsp;&nbsp;&nbsp;&nbsp;&nbsp;&nbsp;&nbsp;&nbsp;&nbsp;&nbsp;&nbsp;Mês:&nbsp;3<br/>Pagamento&nbsp;mínimo:&nbsp;1149.75<br/>&nbsp;Dívida&nbsp;restante:&nbsp;6710.71<br/>&nbsp;&nbsp;&nbsp;&nbsp;&nbsp;&nbsp;&nbsp;&nbsp;&nbsp;&nbsp;&nbsp;&nbsp;&nbsp;Mês:&nbsp;4<br/>Pagamento&nbsp;mínimo:&nbsp;1006.61<br/>&nbsp;Dívida&nbsp;restante:&nbsp;5875.23<br/>&nbsp;&nbsp;&nbsp;&nbsp;&nbsp;&nbsp;&nbsp;&nbsp;&nbsp;&nbsp;&nbsp;&nbsp;&nbsp;Mês:&nbsp;5<br/>Pagamento&nbsp;mínimo:&nbsp;881.28<br/>&nbsp;Dívida&nbsp;restante:&nbsp;5143.76<br/>&nbsp;&nbsp;&nbsp;&nbsp;&nbsp;&nbsp;&nbsp;&nbsp;&nbsp;&nbsp;&nbsp;&nbsp;&nbsp;Mês:&nbsp;6<br/>Pagamento&nbsp;mínimo:&nbsp;771.56<br/>&nbsp;Dívida&nbsp;restante:&nbsp;4503.36<br/>&nbsp;&nbsp;&nbsp;&nbsp;&nbsp;&nbsp;&nbsp;&nbsp;&nbsp;&nbsp;&nbsp;&nbsp;&nbsp;Mês:&nbsp;7<br/>Pagamento&nbsp;mínimo:&nbsp;675.50<br/>&nbsp;Dívida&nbsp;restante:&nbsp;3942.69<br/>&nbsp;&nbsp;&nbsp;&nbsp;&nbsp;&nbsp;&nbsp;&nbsp;&nbsp;&nbsp;&nbsp;&nbsp;&nbsp;Mês:&nbsp;8<br/>Pagamento&nbsp;mínimo:&nbsp;591.40<br/>&nbsp;Dívida&nbsp;restante:&nbsp;3451.83<br/>&nbsp;&nbsp;&nbsp;&nbsp;&nbsp;&nbsp;&nbsp;&nbsp;&nbsp;&nbsp;&nbsp;&nbsp;&nbsp;Mês:&nbsp;9<br/>Pagamento&nbsp;mínimo:&nbsp;517.77<br/>&nbsp;Dívida&nbsp;restante:&nbsp;3022.08<br/>&nbsp;&nbsp;&nbsp;&nbsp;&nbsp;&nbsp;&nbsp;&nbsp;&nbsp;&nbsp;&nbsp;&nbsp;&nbsp;Mês:&nbsp;10<br/>Pagamento&nbsp;mínimo:&nbsp;453.31<br/>&nbsp;Dívida&nbsp;restante:&nbsp;2645.83<br/>&nbsp;&nbsp;&nbsp;&nbsp;&nbsp;&nbsp;&nbsp;&nbsp;&nbsp;&nbsp;&nbsp;&nbsp;&nbsp;Mês:&nbsp;11<br/>Pagamento&nbsp;mínimo:&nbsp;396.87<br/>&nbsp;Dívida&nbsp;restante:&nbsp;2316.42<br/>&nbsp;&nbsp;&nbsp;&nbsp;&nbsp;&nbsp;&nbsp;&nbsp;&nbsp;&nbsp;&nbsp;&nbsp;&nbsp;Mês:&nbsp;12<br/>Pagamento&nbsp;mínimo:&nbsp;347.46<br/>&nbsp;Dívida&nbsp;restante:&nbsp;2028.03<br/>-------------------------<br/>&nbsp;&nbsp;&nbsp;&nbsp;&nbsp;&nbsp;Total&nbsp;pago:&nbsp;9604.79<br/>&nbsp;Dívida&nbsp;restante:&nbsp;2028.03</code></pre>|<pre><code>&nbsp;&nbsp;&nbsp;&nbsp;&nbsp;&nbsp;&nbsp;&nbsp;&nbsp;&nbsp;&nbsp;&nbsp;&nbsp;Mês:&nbsp;1<br/>Pagamento&nbsp;mínimo:&nbsp;100.00<br/>&nbsp;Dívida&nbsp;restante:&nbsp;4973.50<br/>&nbsp;&nbsp;&nbsp;&nbsp;&nbsp;&nbsp;&nbsp;&nbsp;&nbsp;&nbsp;&nbsp;&nbsp;&nbsp;Mês:&nbsp;2<br/>Pagamento&nbsp;mínimo:&nbsp;99.47<br/>&nbsp;Dívida&nbsp;restante:&nbsp;4947.14<br/>&nbsp;&nbsp;&nbsp;&nbsp;&nbsp;&nbsp;&nbsp;&nbsp;&nbsp;&nbsp;&nbsp;&nbsp;&nbsp;Mês:&nbsp;3<br/>Pagamento&nbsp;mínimo:&nbsp;98.94<br/>&nbsp;Dívida&nbsp;restante:&nbsp;4920.92<br/>&nbsp;&nbsp;&nbsp;&nbsp;&nbsp;&nbsp;&nbsp;&nbsp;&nbsp;&nbsp;&nbsp;&nbsp;&nbsp;Mês:&nbsp;4<br/>Pagamento&nbsp;mínimo:&nbsp;98.42<br/>&nbsp;Dívida&nbsp;restante:&nbsp;4894.84<br/>&nbsp;&nbsp;&nbsp;&nbsp;&nbsp;&nbsp;&nbsp;&nbsp;&nbsp;&nbsp;&nbsp;&nbsp;&nbsp;Mês:&nbsp;5<br/>Pagamento&nbsp;mínimo:&nbsp;97.90<br/>&nbsp;Dívida&nbsp;restante:&nbsp;4868.90<br/>&nbsp;&nbsp;&nbsp;&nbsp;&nbsp;&nbsp;&nbsp;&nbsp;&nbsp;&nbsp;&nbsp;&nbsp;&nbsp;Mês:&nbsp;6<br/>Pagamento&nbsp;mínimo:&nbsp;97.38<br/>&nbsp;Dívida&nbsp;restante:&nbsp;4843.09<br/>&nbsp;&nbsp;&nbsp;&nbsp;&nbsp;&nbsp;&nbsp;&nbsp;&nbsp;&nbsp;&nbsp;&nbsp;&nbsp;Mês:&nbsp;7<br/>Pagamento&nbsp;mínimo:&nbsp;96.86<br/>&nbsp;Dívida&nbsp;restante:&nbsp;4817.42<br/>&nbsp;&nbsp;&nbsp;&nbsp;&nbsp;&nbsp;&nbsp;&nbsp;&nbsp;&nbsp;&nbsp;&nbsp;&nbsp;Mês:&nbsp;8<br/>Pagamento&nbsp;mínimo:&nbsp;96.35<br/>&nbsp;Dívida&nbsp;restante:&nbsp;4791.89<br/>&nbsp;&nbsp;&nbsp;&nbsp;&nbsp;&nbsp;&nbsp;&nbsp;&nbsp;&nbsp;&nbsp;&nbsp;&nbsp;Mês:&nbsp;9.><br/>Pagamento&nbsp;mínimo:&nbsp;95.84<br/>&nbsp;Dívida&nbsp;restante:&nbsp;4766.49<br/>&nbsp;&nbsp;&nbsp;&nbsp;&nbsp;&nbsp;&nbsp;&nbsp;&nbsp;&nbsp;&nbsp;&nbsp;&nbsp;Mês:&nbsp;10<br/>Pagamento&nbsp;mínimo:&nbsp;95.33<br/>&nbsp;Dívida&nbsp;restante:&nbsp;4741.23<br/>&nbsp;&nbsp;&nbsp;&nbsp;&nbsp;&nbsp;&nbsp;&nbsp;&nbsp;&nbsp;&nbsp;&nbsp;&nbsp;Mês:&nbsp;11<br/>Pagamento&nbsp;mínimo:&nbsp;94.82<br/>&nbsp;Dívida&nbsp;restante:&nbsp;4716.10<br/>&nbsp;&nbsp;&nbsp;&nbsp;&nbsp;&nbsp;&nbsp;&nbsp;&nbsp;&nbsp;&nbsp;&nbsp;&nbsp;Mês:&nbsp;12<br/>Pagamento&nbsp;mínimo:&nbsp;94.32<br/>&nbsp;Dívida&nbsp;restante:&nbsp;4691.11<br/>-------------------------<br/>&nbsp;&nbsp;&nbsp;&nbsp;&nbsp;&nbsp;Total&nbsp;pago:&nbsp;1165.63<br/>&nbsp;Dívida&nbsp;restante:&nbsp;4691.11</code></pre> |\n",
    " \n",
    " Se implementar este comportamento corretamente, sua função não causará erros nos seguintes testes:"
   ]
  },
  {
   "cell_type": "code",
   "execution_count": null,
   "metadata": {
    "collapsed": false
   },
   "outputs": [],
   "source": [
    "import math # \"mágica\" para saber Matemática\n",
    "\n",
    "# Verificando se o comportamento definido é o esperado,\n",
    "# não se preocupe em entender estas instruções agora\n",
    "# (mas volte para revê-las no futuro!)\n",
    "assert math.isclose(2028.03, divida_restante(10000, 0.36, 0.15), abs_tol=0.01), '2028.03 != divida_restante(10000, 0.36, 0.15)'\n",
    "assert math.isclose(4691.11, divida_restante(5000, 0.18, 0.02), abs_tol=0.01), '4691.11 != divida_restante(5000, 0.18, 0.02)'\n",
    "assert math.isclose(1000.00, divida_restante(1000, 0.0, 0.0), abs_tol=0.01), '1000.00 != divida_restante(1000, 0.0, 0.0)'\n",
    "assert math.isclose(0.24, divida_restante(1000, 0.0, 0.5), abs_tol=0.01), '0.24 != divida_restante(1000, 0.0, 0.5)'\n",
    "assert math.isclose(0.40, divida_restante(1000, 0.5, 0.5), abs_tol=0.01), '0.40 != divida_restante(1000, 0.5, 0.5)'\n",
    "assert math.isclose(1632.09, divida_restante(1000, 0.5, 0.0), abs_tol=0.01), '1632.09 != divida_restante(1000, 0.5, 0.0)'"
   ]
  },
  {
   "cell_type": "markdown",
   "metadata": {
    "collapsed": true
   },
   "source": [
    "## Parcela Mínima ##\n",
    "\n",
    "Ficar devendo não é a situação ideal, mas nem sempre podemos pagar tudo rapidamente. Implemente a função `parcela_minima` que calcula o valor da parcela mensal necessária para quitar a dívida em um ano. Esta parcela é um valor *fixo* a ser pago todo mês, e o total dos pagamentos deve ser suficiente para quitar a divida - considerando o acréscimo mensal em função dos juros. Para simplificar o processo, suponha que você aceite apenas pagar parcelas que são múltiplas de R\\$ 10,00."
   ]
  },
  {
   "cell_type": "code",
   "execution_count": null,
   "metadata": {
    "collapsed": true
   },
   "outputs": [],
   "source": [
    "def parcela_minima(divida, juro_anual):\n",
    "    u\"\"\"\n",
    "    Retorna o valor da menor parcela a ser paga para quitar a dívida em 1 ano.\n",
    "    \n",
    "    Considera apenas valores múltiplos de 10.00.\n",
    "\n",
    "    Argumentos:\n",
    "    divida -- valor da dívida\n",
    "    juro_anual -- taxa de juros anual\n",
    "    \"\"\"\n",
    "    # Implemente o código aqui."
   ]
  },
  {
   "cell_type": "markdown",
   "metadata": {},
   "source": [
    " Se implementar este comportamento corretamente, sua função não causará erros nos seguintes testes:"
   ]
  },
  {
   "cell_type": "code",
   "execution_count": null,
   "metadata": {
    "collapsed": false
   },
   "outputs": [],
   "source": [
    "# Verificando se o comportamento definido é o esperado.\n",
    "assert math.isclose(980.00, parcela_minima(10000, 0.36), abs_tol=0.01), '980.00 != parcela_minima(10000, 0.36)'\n",
    "assert math.isclose(460.00, parcela_minima(5000, 0.18), abs_tol=0.01), '460.00 != parcela_minima(5000, 0.18)'\n",
    "assert math.isclose(113810.00, parcela_minima(999999, 0.75), abs_tol=0.01), '113810.00 != parcela_minima(999999, 0.75)'\n",
    "assert math.isclose(90.00, parcela_minima(1000, 0.0), abs_tol=0.01), '90.00 != parcela_minima(1000, 0.0)'\n",
    "assert math.isclose(110.00, parcela_minima(1000, 0.5), abs_tol=0.01), '110.00 != parcela_minima(1000, 0.5, 0.0)'"
   ]
  },
  {
   "cell_type": "markdown",
   "metadata": {},
   "source": [
    "## Parcela Mínima Eficiente ##\n",
    "\n",
    "Pagamentos como múltiplos de R\\$ 10,00 facilitam a computação, mas resultam em valores aproximados para as parcelas. Por exemplo, 12 parcelas de R\\$90,00 no teste anterior totalizam R\\$1.080,00, e na verdade seriam 11 pagamentos deste valor e um último pagamento de R\\$10,00. O ideal seria lidar com uma precisão de centavos, de modo a ter uma diferença mínima entre os valores da última parcela e as demais. Se mudar seu código para lidar com isso (valores múltiplos de 1 centavo), supondo que ele ainda funcione, qual a maior diferença na execução dos programas?\n",
    "\n",
    "Se parecer mais lento, possivelmente é por que para cada avaliação de parcelas múltiplas de R\\$ 10,00 agora existem outras 1.000 parcelas possíveis de valores intermediários. Este excesso de tempo geralmente não é aceitável, então é preciso implementar uma versão mais eficiente.\n",
    "\n",
    "Uma forma eficiente de encontrar o valor é uma busca binária nas possibilidades. O problema é encontrar a menor parcela possível para quitar a dívida em um ano, supondo uma dívida de R\\$ 10.000,00, sabemos que o valor da parcela mínima está entre um limite inferior (R\\$ 0,00) e um limite superior (R\\$ 10.000,00). A ideia é considerar o valor intermediário (no meio dos limites) e testá-lo. Por exemplo, R\\$ 5.000,00. Se este for insuficiente, uma parcela muito baixa, é evidente que o valor desejado é maior que o considerado e, portanto, todos os valores inferiores ao testado são também insuficientes e podem ser desconsiderados. Isto implica que metade do intervalo de busca pode ser descartada!\n",
    "\n",
    "No exemplo, 12 parcelas de R\\$ 5.000,00 excedem em muito o valor da dívida, portanto este valor não é a parcela mínima desejada. Qualquer valor superior a R\\$ 5.000,00 também será excessivo, portanto podem ser desconsiderados e, assim, o limite inferior permanece inalterado (R\\$ 0,00) mas o limite superior pode ser atualizado de R\\$ 10.000,00 para R\\$ 5.000,00. Ainda não há uma solução definida, mas efetivamente reduziu-se pela metade a quantidade de elementos que possivelmente seriam verificados. E tem-se o mesmo problema de antes, que pode ser resolvido da mesma forma.\n",
    "\n",
    "Considerando o valor intermediário R\\$ 2.500,00, pode-se verificar que esta parcela também é excessiva, e assim reduzir o intervalo de busca para entre R\\$ 0,00 e R\\$ 2.500,00. E assim sucessivamente até que o total pago com a parcela mínima seja suficiente para quitar a dívida.\n",
    "\n",
    "Implemente a função `parcela_minima_eficiente` que calcula, usando o [método da bisseção](http://pt.wikipedia.org/wiki/M%C3%A9todo_da_bisse%C3%A7%C3%A3o) o valor da parcela mensal necessária para quitar a dívida em um ano. Caso uma das parcelas esteja incorreta por _até 1 centavo_, desconsidere as diferenças."
   ]
  },
  {
   "cell_type": "code",
   "execution_count": null,
   "metadata": {
    "collapsed": true
   },
   "outputs": [],
   "source": [
    "def parcela_minima_eficiente(divida, juro_anual):\n",
    "    u\"\"\"\n",
    "    Retorna o valor da menor parcela a ser paga para quitar a dívida em 1 ano.\n",
    "\n",
    "    Argumentos:\n",
    "    divida -- valor da dívida\n",
    "    juro_anual -- taxa de juros anual\n",
    "    \"\"\"\n",
    "    # Implemente o código aqui."
   ]
  },
  {
   "cell_type": "markdown",
   "metadata": {},
   "source": [
    " Se implementar este comportamento corretamente, sua função não causará erros nos seguintes testes:"
   ]
  },
  {
   "cell_type": "code",
   "execution_count": null,
   "metadata": {
    "collapsed": false
   },
   "outputs": [],
   "source": [
    "# Verificando se o comportamento definido é o esperado.\n",
    "assert math.isclose(975.37, parcela_minima_eficiente(10000, 0.36), abs_tol=0.01), '975.37 != parcela_minima_eficiente(10000, 0.36)'\n",
    "assert math.isclose(451.63, parcela_minima_eficiente(5000, 0.18), abs_tol=0.01), '451.63 != parcela_minima_eficiente(5000, 0.18)'\n",
    "assert math.isclose(113804.33, parcela_minima_eficiente(999999, 0.75), abs_tol=0.01), '113804.33 != parcela_minima_eficiente(999999, 0.75)'\n",
    "assert math.isclose(83.34, parcela_minima_eficiente(1000, 0.0), abs_tol=0.01), '83.34 != parcela_minima_eficiente(1000, 0.0)'\n",
    "assert math.isclose(103.27, parcela_minima_eficiente(1000, 0.5), abs_tol=0.01), '103.27 != parcela_minima_eficiente(1000, 0.5, 0.0)'"
   ]
  },
  {
   "cell_type": "markdown",
   "metadata": {},
   "source": [
    "É interessante verificar as diferenças em custos de execução:"
   ]
  },
  {
   "cell_type": "code",
   "execution_count": null,
   "metadata": {
    "collapsed": false
   },
   "outputs": [],
   "source": [
    "# Verificando se o comportamento definido é o esperado,\n",
    "# não se preocupe em entender estas instruções agora\n",
    "# (mas volte para revê-las no futuro!)\n",
    "\n",
    "pm = %timeit -o -q parcela_minima(999999, 0.75)\n",
    "pme = %timeit -o -q parcela_minima_eficiente(999999, 0.75)\n",
    "media_pm = sum(pm.all_runs)/len(pm.all_runs)*pm.loops\n",
    "media_pme = sum(pme.all_runs)/len(pme.all_runs)*pme.loops\n",
    "    \n",
    "print('R$ 999999 a 0.75%.')\n",
    "print('parcela_minima_eficiente é aproximadamente {}x mais rápido.'.format(int(media_pme / media_pm)))"
   ]
  }
 ],
 "metadata": {
  "kernelspec": {
   "display_name": "Python 3",
   "language": "python",
   "name": "python3"
  },
  "language_info": {
   "codemirror_mode": {
    "name": "ipython",
    "version": 3
   },
   "file_extension": ".py",
   "mimetype": "text/x-python",
   "name": "python",
   "nbconvert_exporter": "python",
   "pygments_lexer": "ipython3",
   "version": "3.5.2"
  }
 },
 "nbformat": 4,
 "nbformat_minor": 0
}
